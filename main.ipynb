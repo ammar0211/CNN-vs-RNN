{
 "cells": [
  {
   "cell_type": "code",
   "execution_count": 1,
   "metadata": {},
   "outputs": [
    {
     "name": "stdout",
     "output_type": "stream",
     "text": [
      "curses is not supported on this machine (please install/reinstall curses for an optimal experience)\n"
     ]
    }
   ],
   "source": [
    "import tensorflow as tf\n",
    "import tflearn\n",
    "from tflearn.layers.core import input_data, dropout, fully_connected\n",
    "from tflearn.layers.conv import conv_1d, global_max_pool\n",
    "from tflearn.layers.merge_ops import merge\n",
    "from tflearn.layers.estimator import regression\n",
    "from tflearn.layers.recurrent import bidirectional_rnn, BasicLSTMCell\n",
    "from tflearn.data_utils import to_categorical, pad_sequences\n",
    "from tflearn.datasets import imdb\n",
    "import pickle # to save/load objects\n",
    "import numpy as np\n",
    "import time, os\n",
    "import pandas as pd\n",
    "from networks import * # this has networks"
   ]
  },
  {
   "cell_type": "code",
   "execution_count": 2,
   "metadata": {
    "collapsed": true
   },
   "outputs": [],
   "source": [
    "%load_ext autoreload\n",
    "%autoreload 2"
   ]
  },
  {
   "cell_type": "code",
   "execution_count": 3,
   "metadata": {
    "collapsed": true
   },
   "outputs": [],
   "source": [
    "# IMDB Dataset loading\n",
    "train, test, _ = imdb.load_data(path='imdb.pkl', n_words=10000, valid_portion=0.15)\n",
    "trainX, trainY = train\n",
    "testX, testY = test\n",
    "\n",
    "# Data preprocessing\n",
    "# Sequence padding\n",
    "maxlen = 100\n",
    "trainX = pad_sequences(trainX, maxlen=maxlen, value=0.)\n",
    "testX = pad_sequences(testX, maxlen=maxlen, value=0.)\n",
    "# Converting labels to binary vectors\n",
    "trainY = to_categorical(trainY, nb_classes=2)\n",
    "testY = to_categorical(testY, nb_classes=2)"
   ]
  },
  {
   "cell_type": "code",
   "execution_count": 4,
   "metadata": {},
   "outputs": [
    {
     "name": "stdout",
     "output_type": "stream",
     "text": [
      "[ 0.50047059  0.49952941] [ 0.49733333  0.50266667]\n"
     ]
    }
   ],
   "source": [
    "print(sum(trainY)/len(trainY), sum(testY)/len(testY)) # to check if we have balanced sets"
   ]
  },
  {
   "cell_type": "code",
   "execution_count": 5,
   "metadata": {},
   "outputs": [
    {
     "name": "stdout",
     "output_type": "stream",
     "text": [
      "TensorFlow Version: 1.2.0\n",
      "Default GPU Device: /gpu:0\n"
     ]
    }
   ],
   "source": [
    "from distutils.version import LooseVersion\n",
    "import warnings\n",
    "\n",
    "# Check TensorFlow Version\n",
    "print('TensorFlow Version: {}'.format(tf.__version__))\n",
    "\n",
    "# Check for a GPU\n",
    "if not tf.test.gpu_device_name():\n",
    "    warnings.warn('No GPU found. CPU will be used.')\n",
    "else:\n",
    "    print('Default GPU Device: {}'.format(tf.test.gpu_device_name()))"
   ]
  },
  {
   "cell_type": "code",
   "execution_count": 6,
   "metadata": {
    "collapsed": true
   },
   "outputs": [],
   "source": [
    "# helpers\n",
    "def test_models(model_list, X, Y):\n",
    "    accuracies = []\n",
    "    for m in model_list:\n",
    "        start = time.time()\n",
    "        predictions = (np.array(m[1].predict(X))[:,0] >= 0.5).astype(np.int_)\n",
    "        test_accuracy = np.mean(predictions == Y[:,0], axis=0)\n",
    "        print(\"Test accuracy: \", '%.4f' % test_accuracy, 'in', '%.2f' % float(time.time()-start), 'seconds for', m[0])\n",
    "        accuracies.append(test_accuracy)\n",
    "    return accuracies\n",
    "\n",
    "def train_models(model_list, X, Y, epoch, val_set, b_size):\n",
    "    trianing_times = []\n",
    "    val_accs = []\n",
    "    for m in model_list:\n",
    "        start = time.time()\n",
    "        temp_callback = CallbackToGetValAcc()\n",
    "        m[1].fit(X, Y, n_epoch=epoch, validation_set=val_set, show_metric=True, \n",
    "                 batch_size=b_size, callbacks=[temp_callback])\n",
    "        total = float(time.time()-start)\n",
    "        print(\"Completed in\", '%.2f' % total, 'seconds for', m[0])\n",
    "        trianing_times.append(total)\n",
    "        val_accs.append(temp_callback.val)\n",
    "    return trianing_times, val_accs"
   ]
  },
  {
   "cell_type": "code",
   "execution_count": 14,
   "metadata": {},
   "outputs": [
    {
     "name": "stdout",
     "output_type": "stream",
     "text": [
      "Models built in 328.01 seconds.\n"
     ]
    }
   ],
   "source": [
    "start = time.time()\n",
    "model_conv_do10 = build_conv(maxlen, d_out=None)\n",
    "model_lstm_do10 = build_lstm(maxlen, d_out=None)\n",
    "model_conv_do09 = build_conv(maxlen, d_out=0.9)\n",
    "model_lstm_do09 = build_lstm(maxlen, d_out=0.9)\n",
    "model_conv_do08 = build_conv(maxlen)\n",
    "model_lstm_do08 = build_lstm(maxlen)\n",
    "model_conv_do07 = build_conv(maxlen, d_out=0.7)\n",
    "model_lstm_do07 = build_lstm(maxlen, d_out=0.7)\n",
    "model_conv_do06 = build_conv(maxlen, d_out=0.6)\n",
    "model_lstm_do06 = build_lstm(maxlen, d_out=0.6)\n",
    "model_conv_do05 = build_conv(maxlen, d_out=0.5)\n",
    "model_lstm_do05 = build_lstm(maxlen, d_out=0.5)\n",
    "model_conv_do04 = build_conv(maxlen, d_out=0.4)\n",
    "model_lstm_do04 = build_lstm(maxlen, d_out=0.4)\n",
    "model_conv_do03 = build_conv(maxlen, d_out=0.3)\n",
    "model_lstm_do03 = build_lstm(maxlen, d_out=0.3)\n",
    "model_conv_do02 = build_conv(maxlen, d_out=0.2)\n",
    "model_lstm_do02 = build_lstm(maxlen, d_out=0.2)\n",
    "model_conv_do01 = build_conv(maxlen, d_out=0.1)\n",
    "model_lstm_do01 = build_lstm(maxlen, d_out=0.1)\n",
    "\n",
    "models = [\n",
    "    ['CNN_do10', model_conv_do10], ['RNN_do10', model_lstm_do10],\n",
    "    ['CNN_do09', model_conv_do09], ['RNN_do09', model_lstm_do09],\n",
    "    ['CNN_do08', model_conv_do08], ['RNN_do08', model_lstm_do08], \n",
    "    ['CNN_do07', model_conv_do07], ['RNN_do07', model_lstm_do07], \n",
    "    ['CNN_do06', model_conv_do06], ['RNN_do06', model_lstm_do06], \n",
    "    ['CNN_do05', model_conv_do05], ['RNN_do05', model_lstm_do05],\n",
    "    ['CNN_do04', model_conv_do04], ['RNN_do04', model_lstm_do04],\n",
    "    ['CNN_do03', model_conv_do03], ['RNN_do03', model_lstm_do03],\n",
    "    ['CNN_do02', model_conv_do02], ['RNN_do02', model_lstm_do02],\n",
    "    ['CNN_do01', model_conv_do01], ['RNN_do01', model_lstm_do01]     \n",
    "         ]\n",
    "\n",
    "print(\"Models built in\", '%.2f' % float(time.time()-start), 'seconds.')"
   ]
  },
  {
   "cell_type": "code",
   "execution_count": 15,
   "metadata": {
    "collapsed": true
   },
   "outputs": [],
   "source": [
    "# Hyper-parameters\n",
    "epoch_size = 8\n",
    "batch_size = 256\n",
    "val_size = 0.15"
   ]
  },
  {
   "cell_type": "code",
   "execution_count": 16,
   "metadata": {},
   "outputs": [
    {
     "name": "stdout",
     "output_type": "stream",
     "text": [
      "Training Step: 567  | total loss: \u001b[1m\u001b[32m0.29285\u001b[0m\u001b[0m | time: 10.297s\n",
      "| Adam | epoch: 008 | loss: 0.29285 - acc: 0.8870 -- iter: 17920/18062\n",
      "Training Step: 568  | total loss: \u001b[1m\u001b[32m0.29412\u001b[0m\u001b[0m | time: 11.456s\n",
      "| Adam | epoch: 008 | loss: 0.29412 - acc: 0.8854 | val_loss: 0.39314 - val_acc: 0.8269 -- iter: 18062/18062\n",
      "--\n",
      "Final model accuracy: 0.826850690013\n",
      "Completed in 122.58 seconds for RNN_do01\n"
     ]
    }
   ],
   "source": [
    "times, val_accs = train_models(models, trainX, trainY, epoch_size, val_size, batch_size)"
   ]
  },
  {
   "cell_type": "code",
   "execution_count": 17,
   "metadata": {},
   "outputs": [
    {
     "name": "stdout",
     "output_type": "stream",
     "text": [
      "Test accuracy:  0.7957 in 0.53 seconds for CNN_do10\n",
      "Test accuracy:  0.7912 in 0.40 seconds for RNN_do10\n",
      "Test accuracy:  0.7981 in 0.29 seconds for CNN_do09\n",
      "Test accuracy:  0.7968 in 0.57 seconds for RNN_do09\n",
      "Test accuracy:  0.7883 in 0.29 seconds for CNN_do08\n",
      "Test accuracy:  0.7971 in 0.58 seconds for RNN_do08\n",
      "Test accuracy:  0.7979 in 0.28 seconds for CNN_do07\n",
      "Test accuracy:  0.7976 in 0.59 seconds for RNN_do07\n",
      "Test accuracy:  0.7864 in 0.29 seconds for CNN_do06\n",
      "Test accuracy:  0.7984 in 0.58 seconds for RNN_do06\n",
      "Test accuracy:  0.7992 in 0.28 seconds for CNN_do05\n",
      "Test accuracy:  0.8040 in 0.58 seconds for RNN_do05\n",
      "Test accuracy:  0.7944 in 0.29 seconds for CNN_do04\n",
      "Test accuracy:  0.8000 in 0.60 seconds for RNN_do04\n",
      "Test accuracy:  0.7893 in 0.29 seconds for CNN_do03\n",
      "Test accuracy:  0.8043 in 0.59 seconds for RNN_do03\n",
      "Test accuracy:  0.7915 in 0.28 seconds for CNN_do02\n",
      "Test accuracy:  0.8144 in 0.59 seconds for RNN_do02\n",
      "Test accuracy:  0.7888 in 0.29 seconds for CNN_do01\n",
      "Test accuracy:  0.8248 in 0.59 seconds for RNN_do01\n"
     ]
    }
   ],
   "source": [
    "# Testing\n",
    "accs = test_models(models, testX, testY)"
   ]
  },
  {
   "cell_type": "code",
   "execution_count": 18,
   "metadata": {},
   "outputs": [
    {
     "data": {
      "text/html": [
       "<div>\n",
       "<style>\n",
       "    .dataframe thead tr:only-child th {\n",
       "        text-align: right;\n",
       "    }\n",
       "\n",
       "    .dataframe thead th {\n",
       "        text-align: left;\n",
       "    }\n",
       "\n",
       "    .dataframe tbody tr th {\n",
       "        vertical-align: top;\n",
       "    }\n",
       "</style>\n",
       "<table border=\"1\" class=\"dataframe\">\n",
       "  <thead>\n",
       "    <tr style=\"text-align: right;\">\n",
       "      <th></th>\n",
       "      <th>Accuracy</th>\n",
       "      <th>Dropout</th>\n",
       "      <th>Model</th>\n",
       "      <th>Train_Time</th>\n",
       "      <th>Val_Acc</th>\n",
       "    </tr>\n",
       "  </thead>\n",
       "  <tbody>\n",
       "    <tr>\n",
       "      <th>19</th>\n",
       "      <td>0.824800</td>\n",
       "      <td>0.1</td>\n",
       "      <td>RNN</td>\n",
       "      <td>122.576595</td>\n",
       "      <td>0.826851</td>\n",
       "    </tr>\n",
       "    <tr>\n",
       "      <th>17</th>\n",
       "      <td>0.814400</td>\n",
       "      <td>0.2</td>\n",
       "      <td>RNN</td>\n",
       "      <td>134.905302</td>\n",
       "      <td>0.815245</td>\n",
       "    </tr>\n",
       "    <tr>\n",
       "      <th>15</th>\n",
       "      <td>0.804267</td>\n",
       "      <td>0.3</td>\n",
       "      <td>RNN</td>\n",
       "      <td>129.761860</td>\n",
       "      <td>0.808344</td>\n",
       "    </tr>\n",
       "    <tr>\n",
       "      <th>11</th>\n",
       "      <td>0.804000</td>\n",
       "      <td>0.5</td>\n",
       "      <td>RNN</td>\n",
       "      <td>115.360051</td>\n",
       "      <td>0.803952</td>\n",
       "    </tr>\n",
       "    <tr>\n",
       "      <th>13</th>\n",
       "      <td>0.800000</td>\n",
       "      <td>0.4</td>\n",
       "      <td>RNN</td>\n",
       "      <td>114.237031</td>\n",
       "      <td>0.808030</td>\n",
       "    </tr>\n",
       "    <tr>\n",
       "      <th>10</th>\n",
       "      <td>0.799200</td>\n",
       "      <td>0.5</td>\n",
       "      <td>CNN</td>\n",
       "      <td>65.898634</td>\n",
       "      <td>0.785132</td>\n",
       "    </tr>\n",
       "    <tr>\n",
       "      <th>9</th>\n",
       "      <td>0.798400</td>\n",
       "      <td>0.6</td>\n",
       "      <td>RNN</td>\n",
       "      <td>118.323526</td>\n",
       "      <td>0.793601</td>\n",
       "    </tr>\n",
       "    <tr>\n",
       "      <th>2</th>\n",
       "      <td>0.798133</td>\n",
       "      <td>0.9</td>\n",
       "      <td>CNN</td>\n",
       "      <td>64.664051</td>\n",
       "      <td>0.787641</td>\n",
       "    </tr>\n",
       "    <tr>\n",
       "      <th>6</th>\n",
       "      <td>0.797867</td>\n",
       "      <td>0.7</td>\n",
       "      <td>CNN</td>\n",
       "      <td>67.589852</td>\n",
       "      <td>0.792660</td>\n",
       "    </tr>\n",
       "    <tr>\n",
       "      <th>7</th>\n",
       "      <td>0.797600</td>\n",
       "      <td>0.7</td>\n",
       "      <td>RNN</td>\n",
       "      <td>112.171875</td>\n",
       "      <td>0.795797</td>\n",
       "    </tr>\n",
       "    <tr>\n",
       "      <th>5</th>\n",
       "      <td>0.797067</td>\n",
       "      <td>0.8</td>\n",
       "      <td>RNN</td>\n",
       "      <td>118.066599</td>\n",
       "      <td>0.795169</td>\n",
       "    </tr>\n",
       "    <tr>\n",
       "      <th>3</th>\n",
       "      <td>0.796800</td>\n",
       "      <td>0.9</td>\n",
       "      <td>RNN</td>\n",
       "      <td>129.487464</td>\n",
       "      <td>0.804893</td>\n",
       "    </tr>\n",
       "    <tr>\n",
       "      <th>0</th>\n",
       "      <td>0.795733</td>\n",
       "      <td>1.0</td>\n",
       "      <td>CNN</td>\n",
       "      <td>67.255759</td>\n",
       "      <td>0.783877</td>\n",
       "    </tr>\n",
       "    <tr>\n",
       "      <th>12</th>\n",
       "      <td>0.794400</td>\n",
       "      <td>0.4</td>\n",
       "      <td>CNN</td>\n",
       "      <td>65.872961</td>\n",
       "      <td>0.788896</td>\n",
       "    </tr>\n",
       "    <tr>\n",
       "      <th>16</th>\n",
       "      <td>0.791467</td>\n",
       "      <td>0.2</td>\n",
       "      <td>CNN</td>\n",
       "      <td>70.374813</td>\n",
       "      <td>0.790464</td>\n",
       "    </tr>\n",
       "    <tr>\n",
       "      <th>1</th>\n",
       "      <td>0.791200</td>\n",
       "      <td>1.0</td>\n",
       "      <td>RNN</td>\n",
       "      <td>89.917749</td>\n",
       "      <td>0.807089</td>\n",
       "    </tr>\n",
       "    <tr>\n",
       "      <th>14</th>\n",
       "      <td>0.789333</td>\n",
       "      <td>0.3</td>\n",
       "      <td>CNN</td>\n",
       "      <td>74.209595</td>\n",
       "      <td>0.785759</td>\n",
       "    </tr>\n",
       "    <tr>\n",
       "      <th>18</th>\n",
       "      <td>0.788800</td>\n",
       "      <td>0.1</td>\n",
       "      <td>CNN</td>\n",
       "      <td>71.057197</td>\n",
       "      <td>0.778858</td>\n",
       "    </tr>\n",
       "    <tr>\n",
       "      <th>4</th>\n",
       "      <td>0.788267</td>\n",
       "      <td>0.8</td>\n",
       "      <td>CNN</td>\n",
       "      <td>65.249340</td>\n",
       "      <td>0.776349</td>\n",
       "    </tr>\n",
       "    <tr>\n",
       "      <th>8</th>\n",
       "      <td>0.786400</td>\n",
       "      <td>0.6</td>\n",
       "      <td>CNN</td>\n",
       "      <td>67.012418</td>\n",
       "      <td>0.778545</td>\n",
       "    </tr>\n",
       "  </tbody>\n",
       "</table>\n",
       "</div>"
      ],
      "text/plain": [
       "    Accuracy  Dropout Model  Train_Time   Val_Acc\n",
       "19  0.824800      0.1   RNN  122.576595  0.826851\n",
       "17  0.814400      0.2   RNN  134.905302  0.815245\n",
       "15  0.804267      0.3   RNN  129.761860  0.808344\n",
       "11  0.804000      0.5   RNN  115.360051  0.803952\n",
       "13  0.800000      0.4   RNN  114.237031  0.808030\n",
       "10  0.799200      0.5   CNN   65.898634  0.785132\n",
       "9   0.798400      0.6   RNN  118.323526  0.793601\n",
       "2   0.798133      0.9   CNN   64.664051  0.787641\n",
       "6   0.797867      0.7   CNN   67.589852  0.792660\n",
       "7   0.797600      0.7   RNN  112.171875  0.795797\n",
       "5   0.797067      0.8   RNN  118.066599  0.795169\n",
       "3   0.796800      0.9   RNN  129.487464  0.804893\n",
       "0   0.795733      1.0   CNN   67.255759  0.783877\n",
       "12  0.794400      0.4   CNN   65.872961  0.788896\n",
       "16  0.791467      0.2   CNN   70.374813  0.790464\n",
       "1   0.791200      1.0   RNN   89.917749  0.807089\n",
       "14  0.789333      0.3   CNN   74.209595  0.785759\n",
       "18  0.788800      0.1   CNN   71.057197  0.778858\n",
       "4   0.788267      0.8   CNN   65.249340  0.776349\n",
       "8   0.786400      0.6   CNN   67.012418  0.778545"
      ]
     },
     "execution_count": 18,
     "metadata": {},
     "output_type": "execute_result"
    }
   ],
   "source": [
    "results = pd.DataFrame({'Model':[m[0][:3] for m in models], \n",
    "                        'Dropout':[int(m[0][-2:])/10.0 for m in models], \n",
    "                        'Train_Time':times, \n",
    "                        'Accuracy':accs, \n",
    "                        'Val_Acc':val_accs})\n",
    "results.sort_values(['Accuracy'], ascending=False)"
   ]
  },
  {
   "cell_type": "code",
   "execution_count": 19,
   "metadata": {
    "collapsed": true
   },
   "outputs": [],
   "source": [
    "# Saving the objects\n",
    "directory = 'obj'\n",
    "if not os.path.exists(directory): os.makedirs(directory) # create folder first\n",
    "f = open('obj/{}.pckl'.format('results_e'+str(epoch_size)), 'wb')\n",
    "pickle.dump(results, f, protocol=2)\n",
    "f.close()"
   ]
  },
  {
   "cell_type": "code",
   "execution_count": 20,
   "metadata": {},
   "outputs": [
    {
     "data": {
      "text/plain": [
       "[[1.0, 0.9, 0.8, 0.7, 0.6, 0.5, 0.4, 0.3, 0.2, 0.1],\n",
       " [0.783, 0.787, 0.776, 0.792, 0.778, 0.785, 0.788, 0.785, 0.79, 0.778],\n",
       " [0.807, 0.804, 0.795, 0.795, 0.793, 0.803, 0.808, 0.808, 0.815, 0.826],\n",
       " [0.795, 0.798, 0.788, 0.797, 0.786, 0.799, 0.794, 0.789, 0.791, 0.788],\n",
       " [0.791, 0.796, 0.797, 0.797, 0.798, 0.804, 0.8, 0.804, 0.814, 0.824]]"
      ]
     },
     "execution_count": 20,
     "metadata": {},
     "output_type": "execute_result"
    }
   ],
   "source": [
    "DO_Prob = [int(i*10)/10 for i in list(results[results['Model']=='RNN'].Dropout)]\n",
    "CNN_Val = [int(i*1000)/1000 for i in list(results[results['Model']=='CNN'].Val_Acc)]\n",
    "RNN_Val = [int(i*1000)/1000 for i in list(results[results['Model']=='RNN'].Val_Acc)]\n",
    "CNN_Test = [int(i*1000)/1000 for i in list(results[results['Model']=='CNN'].Accuracy)]\n",
    "RNN_Test = [int(i*1000)/1000 for i in list(results[results['Model']=='RNN'].Accuracy)]\n",
    "[DO_Prob, CNN_Val, RNN_Val, CNN_Test, RNN_Test]"
   ]
  },
  {
   "cell_type": "code",
   "execution_count": 21,
   "metadata": {},
   "outputs": [
    {
     "data": {
      "text/plain": [
       "31.066544552644093"
      ]
     },
     "execution_count": 21,
     "metadata": {},
     "output_type": "execute_result"
    }
   ],
   "source": [
    "sum(results.Train_Time)/60"
   ]
  }
 ],
 "metadata": {
  "kernelspec": {
   "display_name": "Python 3",
   "language": "python",
   "name": "python3"
  },
  "language_info": {
   "codemirror_mode": {
    "name": "ipython",
    "version": 3
   },
   "file_extension": ".py",
   "mimetype": "text/x-python",
   "name": "python",
   "nbconvert_exporter": "python",
   "pygments_lexer": "ipython3",
   "version": "3.5.3"
  }
 },
 "nbformat": 4,
 "nbformat_minor": 2
}
